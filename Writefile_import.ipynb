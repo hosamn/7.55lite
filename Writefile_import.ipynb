{
  "nbformat": 4,
  "nbformat_minor": 0,
  "metadata": {
    "colab": {
      "provenance": [],
      "include_colab_link": true
    },
    "kernelspec": {
      "name": "python3",
      "display_name": "Python 3"
    }
  },
  "cells": [
    {
      "cell_type": "markdown",
      "metadata": {
        "id": "view-in-github",
        "colab_type": "text"
      },
      "source": [
        "<a href=\"https://colab.research.google.com/github/hosamn/7.55lite/blob/main/Writefile_import.ipynb\" target=\"_parent\"><img src=\"https://colab.research.google.com/assets/colab-badge.svg\" alt=\"Open In Colab\"/></a>"
      ]
    },
    {
      "cell_type": "markdown",
      "metadata": {
        "id": "SwbPjIpUccu2"
      },
      "source": [
        "From [this question](https://stackoverflow.com/q/59709347/6729010)"
      ]
    },
    {
      "cell_type": "markdown",
      "metadata": {
        "id": "csTT4LZAcz8B"
      },
      "source": [
        "# !git clone"
      ]
    },
    {
      "cell_type": "code",
      "metadata": {
        "id": "PyXPBNQGcXYV",
        "colab": {
          "base_uri": "https://localhost:8080/",
          "height": 177
        },
        "outputId": "a0354ac2-6e25-49ea-9b4b-7265a0c9c64b"
      },
      "source": [
        "# Clone the entire repo.\n",
        "!git clone -l -s https://gist.github.com/dcdesmond/28276a70d5d5611d3e0f4f5717eca535 cloned-repo\n",
        "\n",
        "# Change directory into cloned repo\n",
        "%cd cloned-repo\n",
        "\n",
        "# List repo contents\n",
        "!ls"
      ],
      "execution_count": null,
      "outputs": [
        {
          "output_type": "stream",
          "text": [
            "Cloning into 'cloned-repo'...\n",
            "warning: --local is ignored\n",
            "remote: Enumerating objects: 3, done.\u001b[K\n",
            "remote: Counting objects: 100% (3/3), done.\u001b[K\n",
            "remote: Compressing objects: 100% (2/2), done.\u001b[K\n",
            "remote: Total 3 (delta 0), reused 0 (delta 0), pack-reused 0\u001b[K\n",
            "Unpacking objects: 100% (3/3), done.\n",
            "/content/cloned-repo\n",
            "dice_roll.py\n"
          ],
          "name": "stdout"
        }
      ]
    },
    {
      "cell_type": "code",
      "metadata": {
        "id": "oU2c4bkncmDp",
        "colab": {
          "base_uri": "https://localhost:8080/",
          "height": 35
        },
        "outputId": "5cac2f19-8725-461f-e999-0fdcfb28277d"
      },
      "source": [
        "import dice_roll\n",
        "dice_roll.dice_roll()"
      ],
      "execution_count": null,
      "outputs": [
        {
          "output_type": "execute_result",
          "data": {
            "text/plain": [
              "2"
            ]
          },
          "metadata": {
            "tags": []
          },
          "execution_count": 2
        }
      ]
    },
    {
      "cell_type": "markdown",
      "metadata": {
        "id": "pQohXFABc3qm"
      },
      "source": [
        "## error"
      ]
    },
    {
      "cell_type": "code",
      "metadata": {
        "id": "taMmEORYcsPa",
        "colab": {
          "base_uri": "https://localhost:8080/",
          "height": 35
        },
        "outputId": "374700da-1f3f-4482-c103-aaab3b56f4e4"
      },
      "source": [
        "# return to original folder\n",
        "%cd /content"
      ],
      "execution_count": null,
      "outputs": [
        {
          "output_type": "stream",
          "text": [
            "/content\n"
          ],
          "name": "stdout"
        }
      ]
    },
    {
      "cell_type": "code",
      "metadata": {
        "id": "rbXg27KkdGeE",
        "colab": {
          "base_uri": "https://localhost:8080/",
          "height": 35
        },
        "outputId": "c1ac121f-5634-4620-cd45-21466869bb34"
      },
      "source": [
        "%%writefile dice_roller.py\n",
        "!git clone -l -s https://gist.github.com/dcdesmond/bda461a04705ab570747a4e7685b0372 cloned-repo\n",
        "%cd cloned-repo\n",
        "!ls"
      ],
      "execution_count": null,
      "outputs": [
        {
          "output_type": "stream",
          "text": [
            "Writing dice_roller.py\n"
          ],
          "name": "stdout"
        }
      ]
    },
    {
      "cell_type": "code",
      "metadata": {
        "id": "vA7FqVnpdTYg",
        "colab": {
          "base_uri": "https://localhost:8080/",
          "height": 133
        },
        "outputId": "4e59880c-6ac7-4cf9-ea21-b0e34c735813"
      },
      "source": [
        "# error\n",
        "import dice_roller"
      ],
      "execution_count": null,
      "outputs": [
        {
          "output_type": "error",
          "ename": "SyntaxError",
          "evalue": "ignored",
          "traceback": [
            "\u001b[0;36m  File \u001b[0;32m\"/content/dice_roller.py\"\u001b[0;36m, line \u001b[0;32m1\u001b[0m\n\u001b[0;31m    !git clone -l -s https://gist.github.com/dcdesmond/bda461a04705ab570747a4e7685b0372 cloned-repo\u001b[0m\n\u001b[0m    ^\u001b[0m\n\u001b[0;31mSyntaxError\u001b[0m\u001b[0;31m:\u001b[0m invalid syntax\n"
          ]
        }
      ]
    },
    {
      "cell_type": "markdown",
      "metadata": {
        "id": "DpMxDRwldc6T"
      },
      "source": [
        "## solution"
      ]
    },
    {
      "cell_type": "markdown",
      "metadata": {
        "id": "6b_i9f7edtsx"
      },
      "source": [
        "convert ! and % to normal python equivalent\n",
        "- ! becomes getoutput\n",
        "- %cd becomes os.chdir(\"...\")"
      ]
    },
    {
      "cell_type": "code",
      "metadata": {
        "id": "Md1EIeEPgHwQ"
      },
      "source": [
        "# clear by MENU > Runtime > Factory Reset Runtime"
      ],
      "execution_count": null,
      "outputs": []
    },
    {
      "cell_type": "code",
      "metadata": {
        "id": "zcLvwnXDdd5y",
        "colab": {
          "base_uri": "https://localhost:8080/",
          "height": 35
        },
        "outputId": "3a78cdcc-af97-4da8-b030-4a42f14b40ee"
      },
      "source": [
        "%%writefile dice_roller2.py\n",
        "import os\n",
        "from subprocess import getoutput\n",
        "getoutput(\"git clone -l -s https://gist.github.com/dcdesmond/28276a70d5d5611d3e0f4f5717eca535 cloned-repo\")\n",
        "os.chdir('cloned-repo')\n",
        "\n",
        "import dice_roll\n",
        "print(dice_roll.dice_roll())"
      ],
      "execution_count": null,
      "outputs": [
        {
          "output_type": "stream",
          "text": [
            "Writing dice_roller2.py\n"
          ],
          "name": "stdout"
        }
      ]
    },
    {
      "cell_type": "code",
      "metadata": {
        "id": "owlErNQfd2oP",
        "colab": {
          "base_uri": "https://localhost:8080/",
          "height": 35
        },
        "outputId": "9e4edd9b-ad70-4a0f-ae06-b0efc5390b38"
      },
      "source": [
        "import dice_roller2"
      ],
      "execution_count": null,
      "outputs": [
        {
          "output_type": "stream",
          "text": [
            "2\n"
          ],
          "name": "stdout"
        }
      ]
    },
    {
      "cell_type": "code",
      "metadata": {
        "id": "lbUMemjbgrQl"
      },
      "source": [],
      "execution_count": null,
      "outputs": []
    }
  ]
}